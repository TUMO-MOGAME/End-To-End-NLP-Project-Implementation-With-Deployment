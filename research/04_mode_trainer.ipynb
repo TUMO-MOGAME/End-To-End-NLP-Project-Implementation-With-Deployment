{
 "cells": [
  {
   "cell_type": "code",
   "execution_count": 1,
   "id": "directory_change",
   "metadata": {},
   "outputs": [
    {
     "name": "stdout",
     "output_type": "stream",
     "text": [
      "Current directory: c:\\Users\\tumom\\OneDrive\\Desktop\\END TO END -NLP\\research\n",
      "Changed to directory: c:\\Users\\tumom\\OneDrive\\Desktop\\END TO END -NLP\n",
      "Config file exists: True\n"
     ]
    }
   ],
   "source": [
    "import os\n",
    "print(f'Current directory: {os.getcwd()}')\n",
    "os.chdir('../')\n",
    "print(f'Changed to directory: {os.getcwd()}')\n",
    "print(f'Config file exists: {os.path.exists(\"config/config.yaml\")}')"
   ]
  },
  {
   "cell_type": "code",
   "execution_count": 2,
   "id": "995e32d5",
   "metadata": {},
   "outputs": [],
   "source": [
    "from dataclasses import dataclass\n",
    "from pathlib import Path\n",
    "\n",
    "@dataclass(frozen=True)\n",
    "class ModelTrainerConfig:\n",
    "    root_dir: Path\n",
    "    data_path: Path\n",
    "    model_ckpt: Path\n",
    "    num_train_epochs: int\n",
    "    warmup_steps: int\n",
    "    per_device_train_batch_size: int\n",
    "    weight_decay: float\n",
    "    logging_steps: int\n",
    "    evaluation_strategy: str\n",
    "    eval_steps: int\n",
    "    save_steps: int\n",
    "    gradient_accumulation_steps: int\n",
    "    per_device_eval_batch_size: int\n",
    "    max_source_length: int\n",
    "    max_target_length: int\n",
    "    val_max_target_length: int\n",
    "    num_beams: int\n",
    "    load_best_model_at_end: bool\n",
    "    greater_is_better: bool\n",
    "    metric_for_best_model: str\n",
    "    save_total_limit: int\n",
    "    report_to: str\n",
    "    push_to_hub: bool\n",
    "    hub_model_id: str\n",
    "    hub_token: str\n",
    "    hub_strategy: str\n",
    "    hub_private_repo: bool\n",
    "    hub_always_push: bool\n",
    "    hub_revision: str\n"
   ]
  },
  {
   "cell_type": "code",
   "execution_count": 3,
   "id": "431e8a13",
   "metadata": {},
   "outputs": [],
   "source": [
    "from textSummarizer.constants import *\n",
    "from textSummarizer.utils.common import read_yaml, create_directories\n"
   ]
  },
  {
   "cell_type": "code",
   "execution_count": 4,
   "id": "cdb41599",
   "metadata": {},
   "outputs": [],
   "source": [
    "class ConfigurationManager:\n",
    "    def __init__(self,config_filepath = CONFIG_FILE_PATH, params_filepath = PARAMS_FILE_PATH):\n",
    "\n",
    "        self.config = read_yaml(config_filepath)\n",
    "        self.params = read_yaml(params_filepath)\n",
    "        \n",
    "        create_directories([self.config.artifacts_root])\n",
    "\n",
    "    def get_model_trainer_config(self) -> ModelTrainerConfig:\n",
    "        config = self.config.model_trainer\n",
    "\n",
    "        create_directories([config.root_dir])\n",
    "\n",
    "        model_trainer_config = ModelTrainerConfig(\n",
    "            root_dir=config.root_dir,\n",
    "            data_path=config.data_path,\n",
    "            model_ckpt=config.model_ckpt,\n",
    "            num_train_epochs=config.num_train_epochs,\n",
    "            warmup_steps=config.warmup_steps,\n",
    "            per_device_train_batch_size=config.per_device_train_batch_size,\n",
    "            weight_decay=config.weight_decay,\n",
    "            logging_steps=config.logging_steps,\n",
    "            evaluation_strategy=config.evaluation_strategy,\n",
    "            eval_steps=config.eval_steps,\n",
    "            save_steps=config.save_steps,\n",
    "            gradient_accumulation_steps=config.gradient_accumulation_steps,\n",
    "            per_device_eval_batch_size=config.per_device_eval_batch_size,\n",
    "            max_source_length=config.max_source_length,\n",
    "            max_target_length=config.max_target_length,\n",
    "            val_max_target_length=config.val_max_target_length,\n",
    "            num_beams=config.num_beams,\n",
    "            load_best_model_at_end=config.load_best_model_at_end,\n",
    "            greater_is_better=config.greater_is_better,\n",
    "            metric_for_best_model=config.metric_for_best_model,\n",
    "            save_total_limit=config.save_total_limit,\n",
    "            report_to=config.report_to,\n",
    "            push_to_hub=config.push_to_hub,\n",
    "            hub_model_id=config.hub_model_id,\n",
    "            hub_token=config.hub_token,\n",
    "            hub_strategy=config.hub_strategy,\n",
    "            hub_private_repo=config.hub_private_repo,\n",
    "            hub_always_push=config.hub_always_push,\n",
    "            hub_revision=config.hub_revision\n",
    "        )\n",
    "\n",
    "        return model_trainer_config"
   ]
  },
  {
   "cell_type": "code",
   "execution_count": 5,
   "id": "1bd67e5e",
   "metadata": {},
   "outputs": [
    {
     "name": "stderr",
     "output_type": "stream",
     "text": [
      "c:\\Users\\tumom\\OneDrive\\Desktop\\END TO END -NLP\\venv\\Lib\\site-packages\\tqdm\\auto.py:21: TqdmWarning: IProgress not found. Please update jupyter and ipywidgets. See https://ipywidgets.readthedocs.io/en/stable/user_install.html\n",
      "  from .autonotebook import tqdm as notebook_tqdm\n"
     ]
    }
   ],
   "source": [
    "from transformers import TrainingArguments, Trainer\n",
    "from transformers import DataCollatorForSeq2Seq\n",
    "from transformers import AutoModelForSeq2SeqLM, AutoTokenizer\n",
    "from datasets import load_from_disk, load_dataset\n",
    "import torch\n"
   ]
  },
  {
   "cell_type": "code",
   "execution_count": 6,
   "id": "4e239805",
   "metadata": {},
   "outputs": [],
   "source": [
    "class ModelTrainer:\n",
    "    def __init__(self, config: ModelTrainerConfig):\n",
    "        self.config = config\n",
    "\n",
    "    def train(self):\n",
    "        device = \"cuda\" if torch.cuda.is_available() else \"cpu\"\n",
    "        tokenizer = AutoTokenizer.from_pretrained(self.config.model_ckpt)\n",
    "        model_pegasus = AutoModelForSeq2SeqLM.from_pretrained(self.config.model_ckpt).to(device)\n",
    "        seq2seq_data_collator = DataCollatorForSeq2Seq(tokenizer, model=model_pegasus)\n",
    "        \n",
    "        #loading data\n",
    "        dataset_samsum_pt = load_from_disk(self.config.data_path)\n",
    "\n",
    "        trainer_args = TrainingArguments(\n",
    "            output_dir=self.config.root_dir, # output directory\n",
    "            num_train_epochs=self.config.num_train_epochs, # total number of training epochs\n",
    "            warmup_steps=self.config.warmup_steps, # number of warmup steps for learning rate scheduler\n",
    "            per_device_train_batch_size=self.config.per_device_train_batch_size, # batch size for training\n",
    "            weight_decay=self.config.weight_decay, # strength of weight decay\n",
    "            logging_steps=self.config.logging_steps, # number of steps for logging\n",
    "            eval_strategy=self.config.evaluation_strategy, # evaluation strategy to adopt during training\n",
    "            eval_steps=self.config.eval_steps, # number of steps for evaluation\n",
    "            save_steps=self.config.save_steps, # number of steps for saving the model\n",
    "            gradient_accumulation_steps=self.config.gradient_accumulation_steps, # number of steps for gradient accumulation\n",
    "            per_device_eval_batch_size=self.config.per_device_eval_batch_size, # batch size for evaluation\n",
    "            load_best_model_at_end=self.config.load_best_model_at_end, # whether to load the best model at the end of training\n",
    "            greater_is_better=self.config.greater_is_better, # whether a greater metric value is better\n",
    "            metric_for_best_model=self.config.metric_for_best_model, # metric to use for best model selection\n",
    "            save_total_limit=self.config.save_total_limit, # maximum number of checkpoints to save\n",
    "            report_to=self.config.report_to, # reporting destination\n",
    "            push_to_hub=self.config.push_to_hub, # whether to push the model to the hub\n",
    "            hub_model_id=self.config.hub_model_id if self.config.push_to_hub else None # model id for the hub\n",
    "        )\n",
    "        trainer = Trainer(model=model_pegasus, args=trainer_args,\n",
    "                  tokenizer=tokenizer, data_collator=seq2seq_data_collator,\n",
    "                  train_dataset=dataset_samsum_pt[\"train\"], \n",
    "                  eval_dataset=dataset_samsum_pt[\"validation\"])\n",
    "        trainer.train()\n",
    "        trainer.evaluate(dataset_samsum_pt[\"validation\"])\n",
    "        trainer.save_model(self.config.root_dir)\n",
    "        trainer.push_to_hub()\n",
    "        tokenizer.save_pretrained(self.config.root_dir)\n",
    "        model_pegasus.save_pretrained(self.config.root_dir)\n"
   ]
  },
  {
   "cell_type": "code",
   "execution_count": null,
   "id": "e13eee47",
   "metadata": {},
   "outputs": [
    {
     "name": "stderr",
     "output_type": "stream",
     "text": [
      "Some weights of PegasusForConditionalGeneration were not initialized from the model checkpoint at google/pegasus-cnn_dailymail and are newly initialized: ['model.decoder.embed_positions.weight', 'model.encoder.embed_positions.weight']\n",
      "You should probably TRAIN this model on a down-stream task to be able to use it for predictions and inference.\n",
      "C:\\Users\\tumom\\AppData\\Local\\Temp\\ipykernel_9208\\599082730.py:34: FutureWarning: `tokenizer` is deprecated and will be removed in version 5.0.0 for `Trainer.__init__`. Use `processing_class` instead.\n",
      "  trainer = Trainer(model=model_pegasus, args=trainer_args,\n",
      "c:\\Users\\tumom\\OneDrive\\Desktop\\END TO END -NLP\\venv\\Lib\\site-packages\\torch\\utils\\data\\dataloader.py:666: UserWarning: 'pin_memory' argument is set as true but no accelerator is found, then device pinned memory won't be used.\n",
      "  warnings.warn(warn_msg)\n"
     ]
    },
    {
     "data": {
      "text/html": [
       "\n",
       "    <div>\n",
       "      \n",
       "      <progress value='13' max='921' style='width:300px; height:20px; vertical-align: middle;'></progress>\n",
       "      [ 13/921 30:56 < 42:33:38, 0.01 it/s, Epoch 0.01/1]\n",
       "    </div>\n",
       "    <table border=\"1\" class=\"dataframe\">\n",
       "  <thead>\n",
       " <tr style=\"text-align: left;\">\n",
       "      <th>Step</th>\n",
       "      <th>Training Loss</th>\n",
       "      <th>Validation Loss</th>\n",
       "    </tr>\n",
       "  </thead>\n",
       "  <tbody>\n",
       "  </tbody>\n",
       "</table><p>"
      ],
      "text/plain": [
       "<IPython.core.display.HTML object>"
      ]
     },
     "metadata": {},
     "output_type": "display_data"
    }
   ],
   "source": [
    "try:\n",
    "    config = ConfigurationManager()\n",
    "    model_trainer_config = config.get_model_trainer_config()\n",
    "    model_trainer = ModelTrainer(config=model_trainer_config)\n",
    "    model_trainer.train()\n",
    "except Exception as e:\n",
    "    raise e"
   ]
  },
  {
   "cell_type": "code",
   "execution_count": null,
   "id": "f740c117",
   "metadata": {},
   "outputs": [],
   "source": []
  }
 ],
 "metadata": {
  "kernelspec": {
   "display_name": "venv (3.11.5)",
   "language": "python",
   "name": "python3"
  },
  "language_info": {
   "codemirror_mode": {
    "name": "ipython",
    "version": 3
   },
   "file_extension": ".py",
   "mimetype": "text/x-python",
   "name": "python",
   "nbconvert_exporter": "python",
   "pygments_lexer": "ipython3",
   "version": "3.11.5"
  }
 },
 "nbformat": 4,
 "nbformat_minor": 5
}
